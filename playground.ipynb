{
 "cells": [
  {
   "cell_type": "code",
   "execution_count": null,
   "metadata": {},
   "outputs": [],
   "source": [
    "# Load model from saved checkpoint in out-shakespeare-char, and run some inferences from it\n"
   ]
  }
 ],
 "metadata": {
  "kernelspec": {
   "display_name": ".venv",
   "language": "python",
   "name": "python3"
  },
  "language_info": {
   "name": "python",
   "version": "3.9.6 (default, Jul 16 2022, 11:03:08) \n[Clang 14.0.0 (clang-1400.0.28.1)]"
  },
  "orig_nbformat": 4,
  "vscode": {
   "interpreter": {
    "hash": "43aeb1356dc2836732d8dbd6e58a1d1f10f521fbfc7700447ac108ba95dcacca"
   }
  }
 },
 "nbformat": 4,
 "nbformat_minor": 2
}
